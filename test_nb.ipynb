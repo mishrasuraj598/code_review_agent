{
 "cells": [
  {
   "cell_type": "code",
   "execution_count": 7,
   "metadata": {},
   "outputs": [],
   "source": [
    "# !pip install langchain google-generativeai pydantic langchain-community langchain-google-genai langchain-core"
   ]
  },
  {
   "cell_type": "code",
   "execution_count": 8,
   "metadata": {},
   "outputs": [
    {
     "name": "stdout",
     "output_type": "stream",
     "text": [
      "Current working directory is: c:\\Users\\mishr\\SurajMishra\\MyWork\\code_review_agent\n"
     ]
    }
   ],
   "source": [
    "import os\n",
    "print(f\"Current working directory is: {os.getcwd()}\")"
   ]
  },
  {
   "cell_type": "markdown",
   "metadata": {},
   "source": [
    "#### Code Review Prompts"
   ]
  },
  {
   "cell_type": "code",
   "execution_count": 9,
   "metadata": {},
   "outputs": [],
   "source": [
    "SYSTEM_MESSAGE = \"\"\"You are an expert in Power Automate and automation workflows. \n",
    "Review the provided Power Automate code and assess it for correctness, efficiency, and security. \n",
    "The code can be present in the form of xml or json files which are generated when we export the workflow from Power Automate.\n",
    "\n",
    "Provide your output in the following JSON structure:\n",
    "{{\n",
    "  \"review_status\": boolean,  # True if code is good, False if issues are found\n",
    "  \"problems_identified\": [   # List of problems in the code\n",
    "    \"Describe the problem briefly\"\n",
    "  ],\n",
    "  \"recommendations\": [       # List of recommendations to improve code\n",
    "    \"Provide recommendations for improvement\"\n",
    "  ]\n",
    "}}\n",
    "\"\"\"\n",
    "\n",
    "INSTRUCTIONS = \"\"\"# **Power Automate Best Practices for Code Review:**\n",
    "\n",
    "## **1️⃣ Naming Conventions**\n",
    "- Use **clear, meaningful names** (e.g., `SendApprovalEmail`, not `action1`).  \n",
    "- Follow **PascalCase** for flow names (`NewCustomerFlow`), and **camelCase** for variables (`var_userEmail`).  \n",
    "\n",
    "## **2️⃣ Structure & Organization**\n",
    "- **Group related actions** using **Scope** (e.g., `Scope: File Operations`).  \n",
    "- Keep flows **modular** and use **child flows** for reusability.  \n",
    "\n",
    "## **3️⃣ Error Handling**\n",
    "- Implement **“Run After”** settings for error handling.  \n",
    "- Use **Try-Catch Scopes** to log errors and send alerts.  \n",
    "- Store error logs in **SharePoint, Dataverse, or Log Analytics**.  \n",
    "\n",
    "## **4️⃣ Performance Optimization**\n",
    "- **Filter data before loops** (use OData queries instead of iterating all items).  \n",
    "- **Use parallel branches** for independent tasks.  \n",
    "- **Minimize API calls** by selecting only required fields.  \n",
    "\n",
    "## **5️⃣ Security & Access Control**\n",
    "- Use **service accounts**, not personal accounts, for connections.  \n",
    "- Restrict permissions to **least privilege access**.  \n",
    "- Store sensitive data in **Azure Key Vault or environment variables**.  \n",
    "\n",
    "## **6️⃣ Version Control & Documentation**\n",
    "- **Enable version history** and add meaningful commit messages.  \n",
    "- Add **comments in actions** explaining logic.  \n",
    "- Maintain detailed documentation in **SharePoint, OneNote, or Confluence**.  \n",
    "\n",
    "## **7️⃣ Code Efficiency**\n",
    "- Use **expressions** instead of multiple actions (`'Hello ' & var_userName`).  \n",
    "- Avoid redundant steps; consolidate where possible.  \n",
    "\n",
    "This concise guide ensures **scalable, secure, and efficient** Power Automate workflows. 🚀\n",
    "\n",
    "\"\"\"\n",
    "\n",
    "HUMAN_MESSAGE = \"\"\"Code to review:\\n\\n{code}\"\"\"\n"
   ]
  },
  {
   "cell_type": "markdown",
   "metadata": {},
   "source": [
    "#### Input Output Schemas"
   ]
  },
  {
   "cell_type": "code",
   "execution_count": 10,
   "metadata": {},
   "outputs": [],
   "source": [
    "from pydantic import BaseModel\n",
    "from typing import List, Union\n",
    "\n",
    "\n",
    "class CodeReviewInput(BaseModel):\n",
    "    code: str  # Raw Power Automate code as string\n",
    "\n",
    "\n",
    "class CodeReviewOutput(BaseModel):\n",
    "    review_status: bool  # True if code is acceptable, False otherwise\n",
    "    problems_identified: List[str]  # List of issues found\n",
    "    recommendations: List[str]  # Suggestions for improvement\n"
   ]
  },
  {
   "cell_type": "code",
   "execution_count": 11,
   "metadata": {},
   "outputs": [],
   "source": [
    "import os\n",
    "import json\n",
    "\n",
    "from dotenv import load_dotenv\n",
    "\n",
    "from langchain_google_genai import ChatGoogleGenerativeAI\n",
    "from langchain_core.prompts import ChatPromptTemplate\n",
    "from langchain.output_parsers import PydanticOutputParser\n",
    "\n",
    "# Load the environment variables\n",
    "load_dotenv('.env')\n",
    "\n",
    "# Define the Google Generative AI model\n",
    "llm = ChatGoogleGenerativeAI(\n",
    "    model=\"gemini-1.5-pro\",\n",
    "    temperature=0,\n",
    "    max_tokens=2000,\n",
    "    timeout=45,\n",
    "    max_retries=2,\n",
    "\n",
    ")\n",
    "\n",
    "def run_review_chain(code):\n",
    "\n",
    "    # Define Output Parser\n",
    "    parser = PydanticOutputParser(pydantic_object=CodeReviewOutput)\n",
    "\n",
    "    # Define Prompt Template\n",
    "    prompt = ChatPromptTemplate.from_messages(\n",
    "        [\n",
    "            (\n",
    "                \"system\",\n",
    "                SYSTEM_MESSAGE,\n",
    "            ),\n",
    "            (\"human\", INSTRUCTIONS),\n",
    "            (\"human\", HUMAN_MESSAGE),\n",
    "        ]\n",
    "    )\n",
    "\n",
    "    # Build LangChain Pipeline\n",
    "    chain = prompt | llm | parser\n",
    "    output = chain.invoke({\"code\": code})\n",
    "    return output.dict()\n"
   ]
  },
  {
   "cell_type": "code",
   "execution_count": null,
   "metadata": {},
   "outputs": [],
   "source": [
    "\n",
    "# Input & Output Directories\n",
    "input_folder = \"inputs\"\n",
    "output_folder = \"outputs\"\n",
    "\n",
    "# Ensure output directory exists\n",
    "os.makedirs(output_folder, exist_ok=True)\n",
    "\n",
    "# Process each file in inputs folder\n",
    "for file in os.listdir(input_folder):\n",
    "    if file.endswith(\".json\"):  # Assuming Power Automate code is JSON formatted\n",
    "        file_path = os.path.join(input_folder, file)\n",
    "\n",
    "        with open(file_path, \"r\", encoding=\"utf-8\") as f:\n",
    "            code_content = f.read()\n",
    "    \n",
    "    elif file.endswith(\".xml\"):  # Assuming Power Automate code is JSON formatted\n",
    "        file_path = os.path.join(input_folder, file)\n",
    "\n",
    "        with open(file_path, \"r\", encoding=\"utf-8\") as f:\n",
    "            code_content = f.read()\n",
    "\n",
    "        # Run Code Review\n",
    "        review_result = run_review_chain(code=code_content)\n",
    "\n",
    "        print(f\"File {file_path} review done!!\\n\\n{review_result}\")\n",
    "\n",
    "        # Save Output\n",
    "        op_file_name = file.split(\".\")[0]\n",
    "        output_path = os.path.join(output_folder, f\"review_{op_file_name}.json\")\n",
    "        with open(output_path, \"w\", encoding=\"utf-8\") as f:\n",
    "            json.dump(review_result, f, indent=4)\n",
    "\n",
    "print(\"Code review completed. Check the outputs folder.\")\n"
   ]
  },
  {
   "cell_type": "code",
   "execution_count": null,
   "metadata": {},
   "outputs": [],
   "source": []
  }
 ],
 "metadata": {
  "kernelspec": {
   "display_name": "base",
   "language": "python",
   "name": "python3"
  },
  "language_info": {
   "codemirror_mode": {
    "name": "ipython",
    "version": 3
   },
   "file_extension": ".py",
   "mimetype": "text/x-python",
   "name": "python",
   "nbconvert_exporter": "python",
   "pygments_lexer": "ipython3",
   "version": "3.12.7"
  }
 },
 "nbformat": 4,
 "nbformat_minor": 2
}
